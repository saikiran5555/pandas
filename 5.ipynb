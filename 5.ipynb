{
 "cells": [
  {
   "cell_type": "markdown",
   "id": "b0ca2e29",
   "metadata": {},
   "source": [
    "Pandas provides a wide range of functions for manipulating data in a DataFrame. Here are some common functions you can use, along with examples of when you might use them:\n",
    "\n",
    "head() and tail(): These functions allow you to view the first few rows (head()) or the last few rows (tail()) of a DataFrame. Useful for quickly inspecting the data."
   ]
  },
  {
   "cell_type": "code",
   "execution_count": 1,
   "id": "475db187",
   "metadata": {},
   "outputs": [
    {
     "name": "stdout",
     "output_type": "stream",
     "text": [
      "First few rows:\n",
      "     Name  Age  Gender\n",
      "0   Alice   25  Female\n",
      "1     Bob   30    Male\n",
      "2  Claire   27  Female\n",
      "\n",
      "Last few rows:\n",
      "     Name  Age  Gender\n",
      "0   Alice   25  Female\n",
      "1     Bob   30    Male\n",
      "2  Claire   27  Female\n"
     ]
    }
   ],
   "source": [
    "import pandas as pd\n",
    "\n",
    "data = {\n",
    "    'Name': ['Alice', 'Bob', 'Claire'],\n",
    "    'Age': [25, 30, 27],\n",
    "    'Gender': ['Female', 'Male', 'Female']\n",
    "}\n",
    "\n",
    "df = pd.DataFrame(data)\n",
    "\n",
    "print(\"First few rows:\")\n",
    "print(df.head())\n",
    "\n",
    "print(\"\\nLast few rows:\")\n",
    "print(df.tail())\n"
   ]
  },
  {
   "cell_type": "markdown",
   "id": "b246d472",
   "metadata": {},
   "source": [
    "shape: Returns the dimensions of the DataFrame (rows, columns)."
   ]
  },
  {
   "cell_type": "code",
   "execution_count": 2,
   "id": "3e7024a9",
   "metadata": {},
   "outputs": [
    {
     "name": "stdout",
     "output_type": "stream",
     "text": [
      "DataFrame shape: (3, 3)\n"
     ]
    }
   ],
   "source": [
    "print(\"DataFrame shape:\", df.shape)\n"
   ]
  },
  {
   "cell_type": "markdown",
   "id": "9e3ce9a5",
   "metadata": {},
   "source": [
    "describe(): Generates summary statistics of the numeric columns in the DataFrame."
   ]
  },
  {
   "cell_type": "code",
   "execution_count": 3,
   "id": "3a179426",
   "metadata": {},
   "outputs": [
    {
     "name": "stdout",
     "output_type": "stream",
     "text": [
      "             Age\n",
      "count   3.000000\n",
      "mean   27.333333\n",
      "std     2.516611\n",
      "min    25.000000\n",
      "25%    26.000000\n",
      "50%    27.000000\n",
      "75%    28.500000\n",
      "max    30.000000\n"
     ]
    }
   ],
   "source": [
    "print(df.describe())\n"
   ]
  },
  {
   "cell_type": "markdown",
   "id": "caa942a3",
   "metadata": {},
   "source": [
    "info(): Provides information about the DataFrame, including data types and non-null counts"
   ]
  },
  {
   "cell_type": "code",
   "execution_count": 4,
   "id": "15ba3c65",
   "metadata": {},
   "outputs": [
    {
     "name": "stdout",
     "output_type": "stream",
     "text": [
      "<class 'pandas.core.frame.DataFrame'>\n",
      "RangeIndex: 3 entries, 0 to 2\n",
      "Data columns (total 3 columns):\n",
      " #   Column  Non-Null Count  Dtype \n",
      "---  ------  --------------  ----- \n",
      " 0   Name    3 non-null      object\n",
      " 1   Age     3 non-null      int64 \n",
      " 2   Gender  3 non-null      object\n",
      "dtypes: int64(1), object(2)\n",
      "memory usage: 200.0+ bytes\n",
      "None\n"
     ]
    }
   ],
   "source": [
    "print(df.info())\n"
   ]
  },
  {
   "cell_type": "markdown",
   "id": "236c316a",
   "metadata": {},
   "source": [
    "loc[] and iloc[]: Used for label-based and integer-based indexing, respectively."
   ]
  },
  {
   "cell_type": "code",
   "execution_count": 5,
   "id": "cf1dfe6d",
   "metadata": {},
   "outputs": [
    {
     "name": "stdout",
     "output_type": "stream",
     "text": [
      "Using loc:\n",
      "Name       Alice\n",
      "Age           25\n",
      "Gender    Female\n",
      "Name: 0, dtype: object\n",
      "\n",
      "Using iloc:\n",
      "Name       Bob\n",
      "Age         30\n",
      "Gender    Male\n",
      "Name: 1, dtype: object\n"
     ]
    }
   ],
   "source": [
    "print(\"Using loc:\")\n",
    "print(df.loc[0])  # Access row by label\n",
    "\n",
    "print(\"\\nUsing iloc:\")\n",
    "print(df.iloc[1])  # Access row by index\n"
   ]
  },
  {
   "cell_type": "markdown",
   "id": "75f0377a",
   "metadata": {},
   "source": [
    "groupby(): Allows you to group data based on one or more columns and apply aggregation functions."
   ]
  },
  {
   "cell_type": "code",
   "execution_count": 6,
   "id": "ff9e39a5",
   "metadata": {},
   "outputs": [
    {
     "name": "stdout",
     "output_type": "stream",
     "text": [
      "Gender\n",
      "Female    26.0\n",
      "Male      30.0\n",
      "Name: Age, dtype: float64\n"
     ]
    }
   ],
   "source": [
    "grouped = df.groupby('Gender')\n",
    "print(grouped['Age'].mean())  # Mean age by gender\n"
   ]
  },
  {
   "cell_type": "markdown",
   "id": "02ae714f",
   "metadata": {},
   "source": [
    "sort_values(): Sorts the DataFrame based on specified columns."
   ]
  },
  {
   "cell_type": "code",
   "execution_count": 7,
   "id": "6482e2c7",
   "metadata": {},
   "outputs": [
    {
     "name": "stdout",
     "output_type": "stream",
     "text": [
      "     Name  Age  Gender\n",
      "1     Bob   30    Male\n",
      "2  Claire   27  Female\n",
      "0   Alice   25  Female\n"
     ]
    }
   ],
   "source": [
    "sorted_df = df.sort_values(by='Age', ascending=False)\n",
    "print(sorted_df)\n"
   ]
  },
  {
   "cell_type": "markdown",
   "id": "d462a599",
   "metadata": {},
   "source": [
    "drop(): Removes rows or columns from the DataFrame."
   ]
  },
  {
   "cell_type": "code",
   "execution_count": 8,
   "id": "1cdd6cbd",
   "metadata": {},
   "outputs": [
    {
     "name": "stdout",
     "output_type": "stream",
     "text": [
      "     Name  Age  Gender\n",
      "1     Bob   30    Male\n",
      "2  Claire   27  Female\n"
     ]
    }
   ],
   "source": [
    "df_dropped = df.drop(index=0)  # Drop the first row\n",
    "print(df_dropped)\n"
   ]
  },
  {
   "cell_type": "markdown",
   "id": "3b0e9118",
   "metadata": {},
   "source": [
    "fillna(): Fills missing values with a specified value or method."
   ]
  },
  {
   "cell_type": "code",
   "execution_count": 9,
   "id": "ef1b3467",
   "metadata": {},
   "outputs": [
    {
     "name": "stdout",
     "output_type": "stream",
     "text": [
      "     Name  Age  Gender\n",
      "0   Alice   25  Female\n",
      "1     Bob   30    Male\n",
      "2  Claire   27  Female\n"
     ]
    }
   ],
   "source": [
    "df_filled = df.fillna(0)  # Fill missing values with 0\n",
    "print(df_filled)\n"
   ]
  },
  {
   "cell_type": "markdown",
   "id": "71245c4e",
   "metadata": {},
   "source": [
    "apply(): Applies a function to each element, row, or column of the DataFrame."
   ]
  },
  {
   "cell_type": "code",
   "execution_count": 10,
   "id": "24413c92",
   "metadata": {},
   "outputs": [
    {
     "name": "stdout",
     "output_type": "stream",
     "text": [
      "     Name  Age  Gender  Age_squared\n",
      "0   Alice   25  Female          625\n",
      "1     Bob   30    Male          900\n",
      "2  Claire   27  Female          729\n"
     ]
    }
   ],
   "source": [
    "df['Age_squared'] = df['Age'].apply(lambda x: x**2)\n",
    "print(df)\n"
   ]
  },
  {
   "cell_type": "code",
   "execution_count": null,
   "id": "71d5e79c",
   "metadata": {},
   "outputs": [],
   "source": []
  }
 ],
 "metadata": {
  "kernelspec": {
   "display_name": "Python 3 (ipykernel)",
   "language": "python",
   "name": "python3"
  },
  "language_info": {
   "codemirror_mode": {
    "name": "ipython",
    "version": 3
   },
   "file_extension": ".py",
   "mimetype": "text/x-python",
   "name": "python",
   "nbconvert_exporter": "python",
   "pygments_lexer": "ipython3",
   "version": "3.10.9"
  }
 },
 "nbformat": 4,
 "nbformat_minor": 5
}
